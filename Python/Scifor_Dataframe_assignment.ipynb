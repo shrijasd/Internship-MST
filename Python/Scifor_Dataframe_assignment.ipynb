{
 "cells": [
  {
   "cell_type": "code",
   "execution_count": 1,
   "id": "3e7ae8a3",
   "metadata": {},
   "outputs": [],
   "source": [
    "#class work\n",
    "import pandas as pd\n",
    "import numpy as np"
   ]
  },
  {
   "cell_type": "code",
   "execution_count": 3,
   "id": "4f6d057e",
   "metadata": {},
   "outputs": [
    {
     "name": "stdout",
     "output_type": "stream",
     "text": [
      "Empty DataFrame\n",
      "Columns: []\n",
      "Index: []\n"
     ]
    }
   ],
   "source": [
    "df= pd.DataFrame()\n",
    "print(df)"
   ]
  },
  {
   "cell_type": "code",
   "execution_count": 4,
   "id": "c8da0698",
   "metadata": {},
   "outputs": [
    {
     "name": "stdout",
     "output_type": "stream",
     "text": [
      "   0    1\n",
      "0  a  1.0\n",
      "1  d  NaN\n"
     ]
    }
   ],
   "source": [
    "d=[['a',1],['d']]\n",
    "df=pd.DataFrame(d)\n",
    "print(df)"
   ]
  },
  {
   "cell_type": "code",
   "execution_count": null,
   "id": "8f10e346",
   "metadata": {},
   "outputs": [],
   "source": [
    "a=[{'a':1,'d':2},{'a':1,'c':2}]\n",
    "   "
   ]
  },
  {
   "cell_type": "code",
   "execution_count": 10,
   "id": "0cd569f1",
   "metadata": {},
   "outputs": [
    {
     "name": "stdout",
     "output_type": "stream",
     "text": [
      "   section  contries\n",
      "0       10       100\n",
      "1       20       200\n",
      "2       30       333\n",
      "3       40       444\n"
     ]
    },
    {
     "data": {
      "text/html": [
       "<div>\n",
       "<style scoped>\n",
       "    .dataframe tbody tr th:only-of-type {\n",
       "        vertical-align: middle;\n",
       "    }\n",
       "\n",
       "    .dataframe tbody tr th {\n",
       "        vertical-align: top;\n",
       "    }\n",
       "\n",
       "    .dataframe thead th {\n",
       "        text-align: right;\n",
       "    }\n",
       "</style>\n",
       "<table border=\"1\" class=\"dataframe\">\n",
       "  <thead>\n",
       "    <tr style=\"text-align: right;\">\n",
       "      <th></th>\n",
       "      <th>section</th>\n",
       "      <th>contries</th>\n",
       "    </tr>\n",
       "  </thead>\n",
       "  <tbody>\n",
       "    <tr>\n",
       "      <th>12</th>\n",
       "      <td>10</td>\n",
       "      <td>100</td>\n",
       "    </tr>\n",
       "    <tr>\n",
       "      <th>13</th>\n",
       "      <td>20</td>\n",
       "      <td>200</td>\n",
       "    </tr>\n",
       "    <tr>\n",
       "      <th>14</th>\n",
       "      <td>30</td>\n",
       "      <td>333</td>\n",
       "    </tr>\n",
       "    <tr>\n",
       "      <th>15</th>\n",
       "      <td>40</td>\n",
       "      <td>444</td>\n",
       "    </tr>\n",
       "  </tbody>\n",
       "</table>\n",
       "</div>"
      ],
      "text/plain": [
       "    section  contries\n",
       "12       10       100\n",
       "13       20       200\n",
       "14       30       333\n",
       "15       40       444"
      ]
     },
     "execution_count": 10,
     "metadata": {},
     "output_type": "execute_result"
    }
   ],
   "source": [
    "D= {'section':[10,20,30,40],\n",
    "   'contries':[100,200,333,444]}\n",
    "print(pd.DataFrame(D))\n",
    "pd.DataFrame(D,index=[12,13,14,15])\n"
   ]
  },
  {
   "cell_type": "code",
   "execution_count": 11,
   "id": "b6323ad6",
   "metadata": {},
   "outputs": [
    {
     "name": "stdout",
     "output_type": "stream",
     "text": [
      "     sal    mak\n",
      "n    ram  raman\n",
      "a     24     24\n",
      "dep   IT     AD\n"
     ]
    }
   ],
   "source": [
    "pep={'sal':{'n':'ram','a':24,'dep':'IT'},\n",
    "    'mak':{'n':'raman','a': 24,'dep':'AD'}}\n",
    "print(pd.DataFrame(pep))"
   ]
  },
  {
   "cell_type": "code",
   "execution_count": 13,
   "id": "552a91af",
   "metadata": {},
   "outputs": [
    {
     "data": {
      "text/html": [
       "<div>\n",
       "<style scoped>\n",
       "    .dataframe tbody tr th:only-of-type {\n",
       "        vertical-align: middle;\n",
       "    }\n",
       "\n",
       "    .dataframe tbody tr th {\n",
       "        vertical-align: top;\n",
       "    }\n",
       "\n",
       "    .dataframe thead th {\n",
       "        text-align: right;\n",
       "    }\n",
       "</style>\n",
       "<table border=\"1\" class=\"dataframe\">\n",
       "  <thead>\n",
       "    <tr style=\"text-align: right;\">\n",
       "      <th></th>\n",
       "      <th>Name</th>\n",
       "      <th>Age</th>\n",
       "    </tr>\n",
       "  </thead>\n",
       "  <tbody>\n",
       "    <tr>\n",
       "      <th>0</th>\n",
       "      <td>tom</td>\n",
       "      <td>25</td>\n",
       "    </tr>\n",
       "    <tr>\n",
       "      <th>1</th>\n",
       "      <td>krish</td>\n",
       "      <td>30</td>\n",
       "    </tr>\n",
       "    <tr>\n",
       "      <th>2</th>\n",
       "      <td>nick</td>\n",
       "      <td>26</td>\n",
       "    </tr>\n",
       "    <tr>\n",
       "      <th>3</th>\n",
       "      <td>juli</td>\n",
       "      <td>22</td>\n",
       "    </tr>\n",
       "  </tbody>\n",
       "</table>\n",
       "</div>"
      ],
      "text/plain": [
       "    Name  Age\n",
       "0    tom   25\n",
       "1  krish   30\n",
       "2   nick   26\n",
       "3   juli   22"
      ]
     },
     "execution_count": 13,
     "metadata": {},
     "output_type": "execute_result"
    }
   ],
   "source": [
    "# List1\n",
    "Name = ['tom', 'krish', 'nick', 'juli']\n",
    "\n",
    "# List2\n",
    "Age = [25, 30, 26, 22]\n",
    "l = list(zip(Name, Age))\n",
    "l\n",
    "\n",
    "df = pd.DataFrame(l, columns = ['Name', 'Age'])\n",
    "\n",
    "df\n"
   ]
  },
  {
   "cell_type": "code",
   "execution_count": 25,
   "id": "ebb3402e",
   "metadata": {},
   "outputs": [
    {
     "name": "stdout",
     "output_type": "stream",
     "text": [
      "   Country  Age\n",
      "0   France   44\n",
      "1    Spain   27\n",
      "2  Germany   30\n",
      "3    Spain   38\n"
     ]
    }
   ],
   "source": [
    "#q1\n",
    "import csv\n",
    "import pandas as pd\n",
    "a=pd.read_csv('dataset.csv')\n",
    "print(a)\n",
    "b = {'Name': ['a', 'b', 'c', 'd'],\n",
    "        'Age': [4, 3, 2, 1]}\n",
    "df= pd.DataFrame(b)\n",
    "df.to_csv('ndataset.csv', index=False)\n"
   ]
  },
  {
   "cell_type": "code",
   "execution_count": 2,
   "id": "d00af13c",
   "metadata": {},
   "outputs": [
    {
     "data": {
      "text/html": [
       "<div>\n",
       "<style scoped>\n",
       "    .dataframe tbody tr th:only-of-type {\n",
       "        vertical-align: middle;\n",
       "    }\n",
       "\n",
       "    .dataframe tbody tr th {\n",
       "        vertical-align: top;\n",
       "    }\n",
       "\n",
       "    .dataframe thead th {\n",
       "        text-align: right;\n",
       "    }\n",
       "</style>\n",
       "<table border=\"1\" class=\"dataframe\">\n",
       "  <thead>\n",
       "    <tr style=\"text-align: right;\">\n",
       "      <th></th>\n",
       "      <th>Name</th>\n",
       "      <th>Age</th>\n",
       "      <th>weight</th>\n",
       "    </tr>\n",
       "  </thead>\n",
       "  <tbody>\n",
       "    <tr>\n",
       "      <th>0</th>\n",
       "      <td>tanishk</td>\n",
       "      <td>25</td>\n",
       "      <td>60</td>\n",
       "    </tr>\n",
       "    <tr>\n",
       "      <th>1</th>\n",
       "      <td>anish</td>\n",
       "      <td>30</td>\n",
       "      <td>40</td>\n",
       "    </tr>\n",
       "    <tr>\n",
       "      <th>2</th>\n",
       "      <td>nisha</td>\n",
       "      <td>26</td>\n",
       "      <td>45</td>\n",
       "    </tr>\n",
       "  </tbody>\n",
       "</table>\n",
       "</div>"
      ],
      "text/plain": [
       "      Name  Age  weight\n",
       "0  tanishk   25      60\n",
       "1    anish   30      40\n",
       "2    nisha   26      45"
      ]
     },
     "execution_count": 2,
     "metadata": {},
     "output_type": "execute_result"
    }
   ],
   "source": [
    "#q4 Create a dataframe to store weight, age and name of 3 people by dictionary of list\n",
    "# List1\n",
    "import pandas as pd\n",
    "Name = ['tanishk', 'anish', 'nisha']\n",
    "\n",
    "# List2\n",
    "Age = [25, 30, 26]\n",
    "weight =[60,40,45]\n",
    "l = list(zip(Name, Age,weight))\n",
    "l\n",
    "\n",
    "df = pd.DataFrame(l, columns = ['Name', 'Age','weight'])\n",
    "\n",
    "df"
   ]
  },
  {
   "cell_type": "code",
   "execution_count": 27,
   "id": "20eb5ba4",
   "metadata": {},
   "outputs": [
    {
     "name": "stdout",
     "output_type": "stream",
     "text": [
      " \n",
      " \n",
      "p1\t10\t\t15\t\t20\t\t25\n",
      "p2\t80\t\t70\t\t90\t\t100\n"
     ]
    }
   ],
   "source": [
    "#q2 Create and display a dataframe from a dictionary holding 2D or nd list values sales is name which stores values quarter wise sales.\n",
    "sales = {\n",
    "    'p1': [10, 15, 20, 25],  # Quarter 1, Quarter 2, Quarter 3, Quarter 4\n",
    "    'p2': [80, 70, 90, 100],\n",
    "}\n",
    "print(\" \")\n",
    "print(\" \")\n",
    "for p, quarter in sales.items():\n",
    "    print(f\"{p}\\t{quarter[0]}\\t\\t{quarter[1]}\\t\\t{quarter[2]}\\t\\t{quarter[3]}\")\n"
   ]
  },
  {
   "cell_type": "code",
   "execution_count": 28,
   "id": "c9c2a639",
   "metadata": {},
   "outputs": [
    {
     "name": "stdout",
     "output_type": "stream",
     "text": [
      "  Zone   Sale\n",
      "0    A  10000\n",
      "1    B  15000\n",
      "2    C  12000\n",
      "3    D  18000\n"
     ]
    }
   ],
   "source": [
    "#q3 Create a dataframe which displays the sales performance of 4 zonal offices your zone name should be the row labels, you can use seperate dictionary for each zone\n",
    "import pandas as pd\n",
    "\n",
    "s = [\n",
    "    {'Zone': ' A', 'Sale': 10000},\n",
    "    {'Zone': ' B', 'Sale': 15000},\n",
    "    {'Zone': ' C', 'Sale': 12000},\n",
    "    {'Zone': ' D', 'Sale': 18000}\n",
    "]\n",
    "\n",
    "# Creating a DataFrame\n",
    "sdf = pd.DataFrame(s)\n",
    "\n",
    "# Displaying the DataFrame\n",
    "print(sdf)\n"
   ]
  },
  {
   "cell_type": "code",
   "execution_count": null,
   "id": "d211782f",
   "metadata": {},
   "outputs": [],
   "source": []
  }
 ],
 "metadata": {
  "kernelspec": {
   "display_name": "Python 3 (ipykernel)",
   "language": "python",
   "name": "python3"
  },
  "language_info": {
   "codemirror_mode": {
    "name": "ipython",
    "version": 3
   },
   "file_extension": ".py",
   "mimetype": "text/x-python",
   "name": "python",
   "nbconvert_exporter": "python",
   "pygments_lexer": "ipython3",
   "version": "3.11.4"
  }
 },
 "nbformat": 4,
 "nbformat_minor": 5
}
