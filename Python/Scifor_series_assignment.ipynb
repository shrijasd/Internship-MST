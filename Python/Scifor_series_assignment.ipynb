{
 "cells": [
  {
   "cell_type": "code",
   "execution_count": 1,
   "id": "33918aad",
   "metadata": {},
   "outputs": [],
   "source": [
    "import pandas as pd"
   ]
  },
  {
   "cell_type": "code",
   "execution_count": 8,
   "id": "d041efa7",
   "metadata": {},
   "outputs": [
    {
     "data": {
      "text/plain": [
       "14"
      ]
     },
     "execution_count": 8,
     "metadata": {},
     "output_type": "execute_result"
    }
   ],
   "source": [
    "#class work\n",
    "#accessing a series object\n",
    "S1 = [15, 14, 13, 12]\n",
    "S1[1]"
   ]
  },
  {
   "cell_type": "code",
   "execution_count": 9,
   "id": "1b7ec636",
   "metadata": {},
   "outputs": [
    {
     "data": {
      "text/plain": [
       "[14, 13]"
      ]
     },
     "execution_count": 9,
     "metadata": {},
     "output_type": "execute_result"
    }
   ],
   "source": [
    "S1[1:3]"
   ]
  },
  {
   "cell_type": "code",
   "execution_count": 10,
   "id": "9febca83",
   "metadata": {},
   "outputs": [
    {
     "data": {
      "text/plain": [
       "[13, 12]"
      ]
     },
     "execution_count": 10,
     "metadata": {},
     "output_type": "execute_result"
    }
   ],
   "source": [
    "S1[2:]"
   ]
  },
  {
   "cell_type": "code",
   "execution_count": 11,
   "id": "4c9cf78a",
   "metadata": {},
   "outputs": [
    {
     "name": "stdout",
     "output_type": "stream",
     "text": [
      "0      1\n",
      "1      2\n",
      "2      3\n",
      "3      4\n",
      "4      5\n",
      "5      6\n",
      "6      7\n",
      "7      8\n",
      "8      9\n",
      "9     10\n",
      "10    11\n",
      "11    12\n",
      "12    13\n",
      "13    14\n",
      "14    15\n",
      "15    16\n",
      "16    17\n",
      "17    18\n",
      "18    19\n",
      "19    20\n",
      "20    21\n",
      "dtype: int64\n"
     ]
    }
   ],
   "source": [
    "# question indexes are from 0 to 20 and values are 1 to 20 \n",
    "import pandas as pd\n",
    "indexes = range(21)\n",
    "value = range(1,22)\n",
    "a = pd.Series(value,index=indexes)\n",
    "print(a)"
   ]
  },
  {
   "cell_type": "code",
   "execution_count": 12,
   "id": "5ad946bd",
   "metadata": {},
   "outputs": [
    {
     "data": {
      "text/plain": [
       "2    3\n",
       "3    4\n",
       "4    5\n",
       "5    6\n",
       "6    7\n",
       "7    8\n",
       "dtype: int64"
      ]
     },
     "execution_count": 12,
     "metadata": {},
     "output_type": "execute_result"
    }
   ],
   "source": [
    "a[2:8]"
   ]
  },
  {
   "cell_type": "code",
   "execution_count": 13,
   "id": "cfb0402a",
   "metadata": {},
   "outputs": [
    {
     "data": {
      "text/plain": [
       "2      3\n",
       "4      5\n",
       "6      7\n",
       "8      9\n",
       "10    11\n",
       "12    13\n",
       "14    15\n",
       "16    17\n",
       "18    19\n",
       "20    21\n",
       "dtype: int64"
      ]
     },
     "execution_count": 13,
     "metadata": {},
     "output_type": "execute_result"
    }
   ],
   "source": [
    "a[2::2]"
   ]
  },
  {
   "cell_type": "code",
   "execution_count": 14,
   "id": "43061479",
   "metadata": {},
   "outputs": [
    {
     "data": {
      "text/plain": [
       "17    18\n",
       "18    19\n",
       "19    20\n",
       "20    21\n",
       "dtype: int64"
      ]
     },
     "execution_count": 14,
     "metadata": {},
     "output_type": "execute_result"
    }
   ],
   "source": [
    "a[17:]"
   ]
  },
  {
   "cell_type": "code",
   "execution_count": 15,
   "id": "d745e68f",
   "metadata": {},
   "outputs": [
    {
     "name": "stdout",
     "output_type": "stream",
     "text": [
      "0       1\n",
      "1       2\n",
      "2       3\n",
      "3       4\n",
      "4       5\n",
      "5       6\n",
      "6       7\n",
      "7       8\n",
      "8       9\n",
      "9      10\n",
      "10     11\n",
      "11     12\n",
      "12     13\n",
      "13     14\n",
      "14    400\n",
      "15     16\n",
      "16     17\n",
      "17     18\n",
      "18     19\n",
      "19     20\n",
      "20     21\n",
      "dtype: int64\n"
     ]
    }
   ],
   "source": [
    "a[14]=400\n",
    "print(a)"
   ]
  },
  {
   "cell_type": "code",
   "execution_count": 16,
   "id": "982acf09",
   "metadata": {},
   "outputs": [
    {
     "name": "stdout",
     "output_type": "stream",
     "text": [
      "0    15\n",
      "1    17\n",
      "2    19\n",
      "3    21\n",
      "4    23\n",
      "dtype: int64\n",
      "0    13\n",
      "1    13\n",
      "2    13\n",
      "3    13\n",
      "4    13\n",
      "dtype: int64\n",
      "0    14\n",
      "1    30\n",
      "2    48\n",
      "3    68\n",
      "4    90\n",
      "dtype: int64\n",
      "0    14.000000\n",
      "1     7.500000\n",
      "2     5.333333\n",
      "3     4.250000\n",
      "4     3.600000\n",
      "dtype: float64\n"
     ]
    }
   ],
   "source": [
    "#addition in series\n",
    "ss =pd.Series([14,15,16,17,18])\n",
    "sss=pd.Series([1,2,3,4,5])\n",
    "#r=ss+sss\n",
    "r=ss.add(sss)\n",
    "r1= ss-sss\n",
    "r2=ss*sss\n",
    "r3=ss/sss\n",
    "print(r)\n",
    "print(r1)\n",
    "print(r2)\n",
    "print(r3)"
   ]
  },
  {
   "cell_type": "code",
   "execution_count": 18,
   "id": "8c47f5e6",
   "metadata": {},
   "outputs": [
    {
     "name": "stdout",
     "output_type": "stream",
     "text": [
      "0     True\n",
      "1    False\n",
      "2     True\n",
      "3     True\n",
      "dtype: bool\n",
      "0    14\n",
      "2    13\n",
      "3    10\n",
      "dtype: int64\n"
     ]
    }
   ],
   "source": [
    "ss =pd.Series([14,16,13,10])\n",
    "print(ss<15)\n",
    "print(ss[ss<15])"
   ]
  },
  {
   "cell_type": "code",
   "execution_count": 19,
   "id": "d68e1399",
   "metadata": {},
   "outputs": [
    {
     "name": "stdout",
     "output_type": "stream",
     "text": [
      "0    False\n",
      "1     True\n",
      "2     True\n",
      "dtype: bool\n"
     ]
    }
   ],
   "source": [
    "s3 =pd.Series([16,71,80])\n",
    "print(s3>50)"
   ]
  },
  {
   "cell_type": "code",
   "execution_count": 23,
   "id": "6ee4289d",
   "metadata": {},
   "outputs": [
    {
     "data": {
      "text/plain": [
       "0    16\n",
       "1    71\n",
       "2    80\n",
       "dtype: int64"
      ]
     },
     "execution_count": 23,
     "metadata": {},
     "output_type": "execute_result"
    }
   ],
   "source": [
    "#sorting\n",
    "#sort_values()\n",
    "s3.sort_values()\n"
   ]
  },
  {
   "cell_type": "code",
   "execution_count": 22,
   "id": "a714378c",
   "metadata": {},
   "outputs": [
    {
     "data": {
      "text/plain": [
       "2    80\n",
       "1    71\n",
       "0    16\n",
       "dtype: int64"
      ]
     },
     "execution_count": 22,
     "metadata": {},
     "output_type": "execute_result"
    }
   ],
   "source": [
    "s3.sort_values(ascending=False)"
   ]
  },
  {
   "cell_type": "code",
   "execution_count": null,
   "id": "9711da0e",
   "metadata": {},
   "outputs": [],
   "source": []
  },
  {
   "cell_type": "code",
   "execution_count": null,
   "id": "70430c35",
   "metadata": {},
   "outputs": [],
   "source": []
  },
  {
   "cell_type": "code",
   "execution_count": 3,
   "id": "5848bb17",
   "metadata": {},
   "outputs": [
    {
     "name": "stdout",
     "output_type": "stream",
     "text": [
      "HR                 12\n",
      "IT                156\n",
      "Training           15\n",
      "Consulting         65\n",
      "Administration      6\n",
      "dtype: int64\n"
     ]
    }
   ],
   "source": [
    "#Shrija Devanpalli 8-2-24\n",
    "#question 1\n",
    "#Create a series object which stores the total number of candidates in the 5 sections of an MNC company also gives the name of section. Write a code to modify the value of 2nd section to any value of your choice and the section number 4th & 5th needs to be modified.\n",
    "d={'section':['HR','IT','Training','Consulting','Administration'],\n",
    "  'candidates':[12,156,15,65,6]}\n",
    "can=pd.Series(d['candidates'], index=d['section'])\n",
    "print(can)"
   ]
  },
  {
   "cell_type": "code",
   "execution_count": 6,
   "id": "2ef87d9c",
   "metadata": {},
   "outputs": [
    {
     "name": "stdout",
     "output_type": "stream",
     "text": [
      "HR                 12\n",
      "IT                267\n",
      "Training           15\n",
      "Consulting         40\n",
      "Administration     89\n",
      "dtype: int64\n"
     ]
    }
   ],
   "source": [
    "#question 2\n",
    "can[1]= 267\n",
    "can[3]=40\n",
    "can[4]=89\n",
    "print(can)"
   ]
  },
  {
   "cell_type": "code",
   "execution_count": 3,
   "id": "d459dfef",
   "metadata": {},
   "outputs": [
    {
     "name": "stdout",
     "output_type": "stream",
     "text": [
      "sci      70\n",
      "comm    120\n",
      "hum     140\n",
      "dtype: int64\n"
     ]
    }
   ],
   "source": [
    "#question 3\n",
    "#Consider the two series objects as A1(class 11) & A2(12) which storing the total number of students in 3 streams Science, commerce and humanities. Write a code to find the total number of students of both the series objects stream vise.\n",
    "import pandas as pd\n",
    "a1=pd.Series({'sci':40,'comm':50,'hum':60})\n",
    "a2=pd.Series({'sci':30,'comm':70,'hum':80})\n",
    "total=a1+a2\n",
    "print(total)"
   ]
  },
  {
   "cell_type": "code",
   "execution_count": 5,
   "id": "096891c3",
   "metadata": {},
   "outputs": [
    {
     "name": "stdout",
     "output_type": "stream",
     "text": [
      "Pune         500000\n",
      "Mumbai       700000\n",
      "Nagpur       400000\n",
      "Hyderabad    800000\n",
      "dtype: int64\n",
      "Pune         20000\n",
      "Mumbai       30000\n",
      "Nagpur       25000\n",
      "Hyderabad    40000\n",
      "dtype: int64\n"
     ]
    }
   ],
   "source": [
    "#quetion 4\n",
    "#Create the object 1 as population storing the details of populations in 4 different metro cities of India and object 2 is average income stores the total average income of the population in the 4 metro cities. Calcualte income per capita for each of these metro cities\n",
    "obj1= pd.Series({'Pune':500000,'Mumbai':700000,'Nagpur':400000,'Hyderabad':800000})\n",
    "obj2= pd.Series({'Pune':20000,'Mumbai':30000,'Nagpur':25000,'Hyderabad':40000})\n",
    "print(obj1)\n",
    "print(obj2)"
   ]
  },
  {
   "cell_type": "code",
   "execution_count": 6,
   "id": "b07328bc",
   "metadata": {},
   "outputs": [
    {
     "name": "stdout",
     "output_type": "stream",
     "text": [
      "Pune         25.000000\n",
      "Mumbai       23.333333\n",
      "Nagpur       16.000000\n",
      "Hyderabad    20.000000\n",
      "dtype: float64\n"
     ]
    }
   ],
   "source": [
    "#question 5 based on question 4 \n",
    "i_p_c = obj1/obj2\n",
    "print(i_p_c)"
   ]
  },
  {
   "cell_type": "code",
   "execution_count": null,
   "id": "426ab6a4",
   "metadata": {},
   "outputs": [],
   "source": []
  }
 ],
 "metadata": {
  "kernelspec": {
   "display_name": "Python 3 (ipykernel)",
   "language": "python",
   "name": "python3"
  },
  "language_info": {
   "codemirror_mode": {
    "name": "ipython",
    "version": 3
   },
   "file_extension": ".py",
   "mimetype": "text/x-python",
   "name": "python",
   "nbconvert_exporter": "python",
   "pygments_lexer": "ipython3",
   "version": "3.11.4"
  }
 },
 "nbformat": 4,
 "nbformat_minor": 5
}
