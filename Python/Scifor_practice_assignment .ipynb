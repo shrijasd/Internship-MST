{
 "cells": [
  {
   "cell_type": "code",
   "execution_count": 1,
   "id": "f7269249",
   "metadata": {},
   "outputs": [
    {
     "name": "stdout",
     "output_type": "stream",
     "text": [
      " 1 1 2 3 4 4 shrija sd shrija s \n",
      "['sd', '1', '4', 's', '3', 'shrija', '2']\n"
     ]
    }
   ],
   "source": [
    "# Shrija Devanpalli \n",
    "# assignment 9-2-24\n",
    "\n",
    "\n",
    "# question 1 return new list with distinct elements\n",
    "\n",
    "def d_e(il): # d_e is function for distinct elements\n",
    "    element = list(set(il))\n",
    "    return element\n",
    "\n",
    "iS = input(\" \") # input from user \n",
    "il = iS.split()\n",
    "element = d_e(il)\n",
    "print(element)  # after entering the inputs press enter\n"
   ]
  },
  {
   "cell_type": "code",
   "execution_count": 2,
   "id": "9a763b37",
   "metadata": {},
   "outputs": [
    {
     "name": "stdout",
     "output_type": "stream",
     "text": [
      "16\n",
      "Calling scifor function from shrija function:\n",
      "8\n",
      "addition 24\n",
      "subtraction 8\n"
     ]
    }
   ],
   "source": [
    "#  question 2  access function inside function\n",
    "\n",
    "def shrija(a):\n",
    "    print(a)\n",
    "\n",
    "    def scifor(i):\n",
    "        print(i)\n",
    "        r_add = a + i\n",
    "        r_sub = a - i\n",
    "        print(\"addition\",r_add)\n",
    "        print(\"subtraction\",r_sub)\n",
    "    \n",
    "\n",
    "    print(\"Calling scifor function from shrija function:\")\n",
    "    scifor(8)  \n",
    "\n",
    "# Call the outer function with an integer argument\n",
    "shrija(16)\n"
   ]
  },
  {
   "cell_type": "code",
   "execution_count": 3,
   "id": "b5dd810e",
   "metadata": {},
   "outputs": [
    {
     "name": "stdout",
     "output_type": "stream",
     "text": [
      " s a 3 b 4 5 6 7\n",
      "a\n",
      "b\n",
      "5\n",
      "7\n"
     ]
    }
   ],
   "source": [
    "# question 3 display odd index elements from list\n",
    "\n",
    "inp = input(\" \")\n",
    "inplist= inp.split()\n",
    "l = []\n",
    "\n",
    "for i in inplist:\n",
    "    if i.isdigit():\n",
    "        l.append(int(i))\n",
    "    else:\n",
    "        l.append(i)\n",
    "        \n",
    "for e in range(1,len(l),2): # display ele at odd index\n",
    "    print(l[e]) # after entering the inputs press enter\n"
   ]
  },
  {
   "cell_type": "code",
   "execution_count": 4,
   "id": "f71c25ce",
   "metadata": {},
   "outputs": [
    {
     "name": "stdout",
     "output_type": "stream",
     "text": [
      " 5\n",
      "* \n",
      "* * \n",
      "* * * \n",
      "* * * * \n",
      "* * * * * \n",
      "* * * * \n",
      "* * * \n",
      "* * \n",
      "* \n",
      "\n"
     ]
    }
   ],
   "source": [
    "# question 4 print star pattern \n",
    "\n",
    "r = int(input(\" \"))\n",
    "\n",
    "for a in range(0, r):\n",
    "    for b in range(0, a + 1):\n",
    "        print(\"*\", end=' ')\n",
    "    print(\"\\r\")\n",
    "\n",
    "for a in range(r, 0, -1):\n",
    "    for b in range(0, a - 1):\n",
    "        print(\"*\", end=' ')\n",
    "    print(\"\\r\") # after entering the inputs press enter\n",
    "\n",
    "    \n",
    "# whatever input you will give the star pattern will print accordingly\n"
   ]
  },
  {
   "cell_type": "code",
   "execution_count": 5,
   "id": "273eb44e",
   "metadata": {},
   "outputs": [
    {
     "name": "stdout",
     "output_type": "stream",
     "text": [
      " 20\n",
      "1 to 20 = 210\n"
     ]
    }
   ],
   "source": [
    "# question 5 sum of 1 to given numbers \n",
    "\n",
    "num = int(input(\" \"))\n",
    "s = 0\n",
    "# Calculate sum of numbers \n",
    "for a in range(1, num + 1):\n",
    "    s += a\n",
    "\n",
    "# Displaying the result\n",
    "print(\"1 to\", num, \"=\", s) # after entering the inputs press enter\n",
    "\n"
   ]
  },
  {
   "cell_type": "code",
   "execution_count": 6,
   "id": "cdaa2ce4",
   "metadata": {},
   "outputs": [
    {
     "name": "stdout",
     "output_type": "stream",
     "text": [
      " 10 20 30 40 50 60 70 80 90 100\n",
      "0     60\n",
      "1     70\n",
      "2     80\n",
      "3     90\n",
      "4    100\n",
      "5    110\n",
      "6     70\n",
      "7     80\n",
      "8     90\n",
      "9    100\n",
      "dtype: int64\n"
     ]
    }
   ],
   "source": [
    "# question 6 \n",
    "import pandas as pd\n",
    "\n",
    "val = input(\" \").split()\n",
    "val = [int(a) for a in val]\n",
    "\n",
    "s = pd.Series(val)\n",
    "s[s < 70] += 50\n",
    "\n",
    "# modified Series\n",
    "print(s) # after entering the inputs press enter\n"
   ]
  },
  {
   "cell_type": "code",
   "execution_count": 8,
   "id": "4873c6ea",
   "metadata": {},
   "outputs": [
    {
     "ename": "NameError",
     "evalue": "name 'lt1' is not defined",
     "output_type": "error",
     "traceback": [
      "\u001b[1;31m---------------------------------------------------------------------------\u001b[0m",
      "\u001b[1;31mNameError\u001b[0m                                 Traceback (most recent call last)",
      "Cell \u001b[1;32mIn[8], line 5\u001b[0m\n\u001b[0;32m      2\u001b[0m lt2 \u001b[38;5;241m=\u001b[39m [\u001b[38;5;241m4\u001b[39m, \u001b[38;5;241m8\u001b[39m, \u001b[38;5;241m12\u001b[39m, \u001b[38;5;241m2\u001b[39m, \u001b[38;5;241m4\u001b[39m, \u001b[38;5;241m6\u001b[39m]  \n\u001b[0;32m      4\u001b[0m \u001b[38;5;66;03m# display the original items of the lists lt1 and lt2  \u001b[39;00m\n\u001b[1;32m----> 5\u001b[0m \u001b[38;5;28mprint\u001b[39m (\u001b[38;5;124m\"\u001b[39m\u001b[38;5;124mDisplay the elements of List 1 \u001b[39m\u001b[38;5;124m\"\u001b[39m \u001b[38;5;241m+\u001b[39m \u001b[38;5;28mstr\u001b[39m(lt1))  \n\u001b[0;32m      6\u001b[0m \u001b[38;5;28mprint\u001b[39m (\u001b[38;5;124m\"\u001b[39m\u001b[38;5;124mDisplay the elements of List 2 \u001b[39m\u001b[38;5;124m\"\u001b[39m \u001b[38;5;241m+\u001b[39m \u001b[38;5;28mstr\u001b[39m(lt2))  \n\u001b[0;32m      8\u001b[0m \u001b[38;5;66;03m# use the zip() function and sum() function to group the lists add the lists' lt1 and lt2 with index #wise.   \u001b[39;00m\n",
      "\u001b[1;31mNameError\u001b[0m: name 'lt1' is not defined"
     ]
    }
   ],
   "source": [
    "t1 = [6, 12, 18, 3, 6, 9]  \n",
    "lt2 = [4, 8, 12, 2, 4, 6]  \n",
    "  \n",
    "# display the original items of the lists lt1 and lt2  \n",
    "print (\"Display the elements of List 1 \" + str(lt1))  \n",
    "print (\"Display the elements of List 2 \" + str(lt2))  \n",
    "  \n",
    "# use the zip() function and sum() function to group the lists add the lists' lt1 and lt2 with index #wise.   \n",
    "result_lt = [sum(i) for i in zip(lt1, lt2 )]  \n",
    "  \n",
    "# Display the sum of the two list  \n",
    "print (\" Sum of the list 1 and list 2 is : \" + str((result_lt)))"
   ]
  },
  {
   "cell_type": "code",
   "execution_count": 10,
   "id": "0435f954",
   "metadata": {},
   "outputs": [
    {
     "name": "stdout",
     "output_type": "stream",
     "text": [
      "{1: 'W1', 2: 'W2', 3: 'W3', 4: 'W4', 5: 'W5', 6: 'W6'}\n"
     ]
    }
   ],
   "source": [
    "# Define week numbers and corresponding names\n",
    "wd = {\n",
    "    1: \"W1\",\n",
    "    2: \"W2\",\n",
    "    3: \"W3\",\n",
    "    4: \"W4\",\n",
    "    5: \"W5\",\n",
    "    6: \"W6\",\n",
    "    \n",
    "    # Add more weeks as needed\n",
    "}\n",
    "\n",
    "# Print the dictionary\n",
    "print(wd)\n"
   ]
  },
  {
   "cell_type": "code",
   "execution_count": null,
   "id": "4198228f",
   "metadata": {},
   "outputs": [],
   "source": []
  }
 ],
 "metadata": {
  "kernelspec": {
   "display_name": "Python 3 (ipykernel)",
   "language": "python",
   "name": "python3"
  },
  "language_info": {
   "codemirror_mode": {
    "name": "ipython",
    "version": 3
   },
   "file_extension": ".py",
   "mimetype": "text/x-python",
   "name": "python",
   "nbconvert_exporter": "python",
   "pygments_lexer": "ipython3",
   "version": "3.11.4"
  }
 },
 "nbformat": 4,
 "nbformat_minor": 5
}
