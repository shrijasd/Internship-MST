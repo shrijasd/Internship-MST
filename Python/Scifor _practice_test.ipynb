{
 "cells": [
  {
   "cell_type": "code",
   "execution_count": 1,
   "id": "b3ad7fc2",
   "metadata": {},
   "outputs": [
    {
     "name": "stdout",
     "output_type": "stream",
     "text": [
      "0    77\n",
      "1    77\n",
      "2    77\n",
      "3    77\n",
      "4    77\n",
      "5    77\n",
      "6    77\n",
      "7    77\n",
      "dtype: int64\n"
     ]
    }
   ],
   "source": [
    "#shrija devanpalli\n",
    "#Question 9\n",
    "#creating series from scalar value\n",
    "import pandas as pd\n",
    "import numpy as np\n",
    "\n",
    "s= pd.Series(77,index=[0,1,2,3,4,5,6,7])\n",
    "print(s)"
   ]
  },
  {
   "cell_type": "code",
   "execution_count": 2,
   "id": "be04c021",
   "metadata": {},
   "outputs": [
    {
     "name": "stdout",
     "output_type": "stream",
     "text": [
      "{1: 'W1', 2: 'W2', 3: 'W3', 4: 'W4', 5: 'W5', 6: 'W6'}\n"
     ]
    }
   ],
   "source": [
    "#Question 13\n",
    "wd = {\n",
    "    1: \"W1\",\n",
    "    2: \"W2\",\n",
    "    3: \"W3\",\n",
    "    4: \"W4\",\n",
    "    5: \"W5\",\n",
    "    6: \"W6\",\n",
    "}\n",
    "print(wd)\n"
   ]
  },
  {
   "cell_type": "code",
   "execution_count": 4,
   "id": "6d192615",
   "metadata": {},
   "outputs": [
    {
     "name": "stdout",
     "output_type": "stream",
     "text": [
      " number of p1\n",
      "pID: 1\n",
      "p name: s\n",
      "p price: 20\n",
      "p quantity: 10\n",
      "CSV filename s.csv\n",
      "P info saved to CSV.\n"
     ]
    }
   ],
   "source": [
    "#question 17\n",
    "import pandas as pd\n",
    "\n",
    "def get_p():\n",
    "    return {\n",
    "        'PID': input(\"pID: \"),\n",
    "        'PName': input(\"p name: \"),\n",
    "        'Price': float(input(\"p price: \")),\n",
    "        'Quant': int(input(\"p quantity: \"))\n",
    "    }\n",
    "\n",
    "num = int(input(\" number of p\"))\n",
    "df = pd.DataFrame([get_p() for _ in range(num)])\n",
    "df.to_csv(input(\"CSV filename \"), index=False)\n",
    "\n",
    "print(\"P info saved to CSV.\")\n"
   ]
  },
  {
   "cell_type": "code",
   "execution_count": 6,
   "id": "3aaa7c8f",
   "metadata": {},
   "outputs": [
    {
     "name": "stdout",
     "output_type": "stream",
     "text": [
      "      Name     Zone  Sale\n",
      "0   Sarita    North   250\n",
      "1    Aditi    South   300\n",
      "2   Bhavik     East   400\n",
      "3  Atharva     West   500\n",
      "4   Shrija  Central   600\n"
     ]
    }
   ],
   "source": [
    "#question 15\n",
    "sm = {\n",
    "    'Name': ['Sarita', 'Aditi', 'Bhavik', 'Atharva', 'Shrija'],\n",
    "    'Zone': ['North', 'South', 'East', 'West', 'Central'],\n",
    "    'Sale': [250, 300, 400,500, 600]\n",
    "}\n",
    "df = pd.DataFrame(sm)\n",
    "print(df)\n"
   ]
  },
  {
   "cell_type": "code",
   "execution_count": 5,
   "id": "17c7ff04",
   "metadata": {},
   "outputs": [
    {
     "name": "stdout",
     "output_type": "stream",
     "text": [
      "0     5\n",
      "1    10\n",
      "2    15\n",
      "3    20\n",
      "4    25\n",
      "5    30\n",
      "6    35\n",
      "7    40\n",
      "8    45\n",
      "9    50\n",
      "dtype: int64\n"
     ]
    }
   ],
   "source": [
    "#question 16\n",
    "t5 = pd.Series([5*i for i in range(1, 11)])\n",
    "print(t5)\n"
   ]
  },
  {
   "cell_type": "code",
   "execution_count": 8,
   "id": "b78db368",
   "metadata": {},
   "outputs": [
    {
     "name": "stdout",
     "output_type": "stream",
     "text": [
      "Avg temperature /week:\n",
      "temp1    24.0\n",
      "temp2    28.6\n",
      "temp3    26.4\n",
      "temp4    28.0\n",
      "dtype: float64\n",
      "\n",
      "Avg temperature of month: 26.75\n"
     ]
    }
   ],
   "source": [
    "#question 14\n",
    "temparature = {\n",
    "    'temp1': [25, 22, 26, 24, 23],  # week 1\n",
    "    'temp2': [28, 33, 29, 27, 26],  # week 2\n",
    "    'temp3': [26, 22, 27, 28, 29],  # week 3\n",
    "    'temp4': [30, 21, 32, 29, 28]   # week 4\n",
    "}\n",
    "df = pd.DataFrame(temparature)\n",
    "print(\"Avg temperature /week:\")\n",
    "print(df.mean())\n",
    "print(\"\\nAvg temperature of month:\", df.values.mean())\n"
   ]
  },
  {
   "cell_type": "code",
   "execution_count": 12,
   "id": "8f37b70c",
   "metadata": {},
   "outputs": [
    {
     "name": "stdout",
     "output_type": "stream",
     "text": [
      "ele separated by spaces: 1 2\n",
      "ele separated by spaces: 1 2\n",
      "Sum of the two lists: 6\n"
     ]
    }
   ],
   "source": [
    "#question 12\n",
    "# l1\n",
    "l1 = [int(a) for a in input(\"ele separated by spaces: \").split()]\n",
    "\n",
    "# l2\n",
    "l2 = [int(a) for a in input(\"ele separated by spaces: \").split()]\n",
    "sum_of_lists = sum(l1) + sum(l2)\n",
    "print(\"Sum of the two lists:\", sum_of_lists)\n",
    "\n"
   ]
  },
  {
   "cell_type": "code",
   "execution_count": null,
   "id": "012c71f4",
   "metadata": {},
   "outputs": [],
   "source": []
  }
 ],
 "metadata": {
  "kernelspec": {
   "display_name": "Python 3 (ipykernel)",
   "language": "python",
   "name": "python3"
  },
  "language_info": {
   "codemirror_mode": {
    "name": "ipython",
    "version": 3
   },
   "file_extension": ".py",
   "mimetype": "text/x-python",
   "name": "python",
   "nbconvert_exporter": "python",
   "pygments_lexer": "ipython3",
   "version": "3.11.4"
  }
 },
 "nbformat": 4,
 "nbformat_minor": 5
}
