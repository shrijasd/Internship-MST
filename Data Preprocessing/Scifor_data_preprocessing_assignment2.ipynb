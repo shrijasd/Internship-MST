{
 "cells": [
  {
   "cell_type": "code",
   "execution_count": 2,
   "id": "27455cd3",
   "metadata": {},
   "outputs": [
    {
     "name": "stdout",
     "output_type": "stream",
     "text": [
      "    sepal_length  sepal_width  petal_length  petal_width          species\n",
      "0            5.1          3.5           1.4          0.2      Iris-setosa\n",
      "1            4.9          3.0           1.4          0.2      Iris-setosa\n",
      "2            4.7          3.2           1.3          0.2      Iris-setosa\n",
      "3            4.6          3.1           1.5          0.2      Iris-setosa\n",
      "4            5.0          3.6           1.4          0.2      Iris-setosa\n",
      "..           ...          ...           ...          ...              ...\n",
      "65           6.7          3.1           4.4          1.4  Iris-versicolor\n",
      "66           5.6          3.0           4.5          1.5  Iris-versicolor\n",
      "67           5.8          2.7           4.1          1.0  Iris-versicolor\n",
      "68           6.2          2.2           4.5          1.5  Iris-versicolor\n",
      "69           5.6          2.5           3.9          1.1  Iris-versicolor\n",
      "\n",
      "[70 rows x 5 columns]\n",
      "Missing values:\n",
      " sepal_length    0\n",
      "sepal_width     0\n",
      "petal_length    0\n",
      "petal_width     0\n",
      "species         0\n",
      "dtype: int64\n",
      "Duplicate rows:\n",
      " 3\n"
     ]
    }
   ],
   "source": [
    "import pandas as pd\n",
    "iris_data = pd.read_csv(\"IRIS.csv\")\n",
    "print(iris_data.head(70))\n",
    "print(\"Missing values:\\n\", iris_data.isnull().sum())\n",
    "duplicate_rows = iris_data.duplicated()\n",
    "print(\"Duplicate rows:\\n\", duplicate_rows.sum())\n",
    "iris_data = iris_data.drop_duplicates()\n",
    "iris_data.to_csv(\"cleaned_IRIS.csv\", index=False)\n"
   ]
  },
  {
   "cell_type": "code",
   "execution_count": 3,
   "id": "7a194276",
   "metadata": {},
   "outputs": [
    {
     "name": "stdout",
     "output_type": "stream",
     "text": [
      "Missing values:\n",
      " sepal_length    0\n",
      "sepal_width     0\n",
      "petal_length    0\n",
      "petal_width     0\n",
      "species         0\n",
      "dtype: int64\n",
      "Duplicate rows:\n",
      " 0\n"
     ]
    }
   ],
   "source": [
    "print(\"Missing values:\\n\", iris_data.isnull().sum())\n",
    "duplicate_rows = iris_data.duplicated()\n",
    "print(\"Duplicate rows:\\n\", duplicate_rows.sum())\n",
    "iris_data = iris_data.drop_duplicates()\n",
    "iris_data.to_csv(\"cleaned_IRIS.csv\", index=False)\n"
   ]
  },
  {
   "cell_type": "code",
   "execution_count": 4,
   "id": "8fd3662e",
   "metadata": {},
   "outputs": [
    {
     "name": "stdout",
     "output_type": "stream",
     "text": [
      "Duplicate rows:\n",
      " 0\n"
     ]
    }
   ],
   "source": [
    "print(\"Duplicate rows:\", duplicate_rows.sum())\n",
    "iris_data = iris_data.drop_duplicates()\n",
    "iris_data.to_csv(\"cleaned_IRIS.csv\", index=False)\n"
   ]
  },
  {
   "cell_type": "code",
   "execution_count": null,
   "id": "3451e28c",
   "metadata": {},
   "outputs": [],
   "source": []
  }
 ],
 "metadata": {
  "kernelspec": {
   "display_name": "Python 3 (ipykernel)",
   "language": "python",
   "name": "python3"
  },
  "language_info": {
   "codemirror_mode": {
    "name": "ipython",
    "version": 3
   },
   "file_extension": ".py",
   "mimetype": "text/x-python",
   "name": "python",
   "nbconvert_exporter": "python",
   "pygments_lexer": "ipython3",
   "version": "3.11.4"
  }
 },
 "nbformat": 4,
 "nbformat_minor": 5
}
