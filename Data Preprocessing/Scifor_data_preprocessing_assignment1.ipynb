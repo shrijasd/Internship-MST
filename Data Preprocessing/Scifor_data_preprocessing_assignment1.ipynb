{
 "cells": [
  {
   "cell_type": "code",
   "execution_count": 1,
   "id": "101b869b",
   "metadata": {},
   "outputs": [],
   "source": [
    "import pandas as pd\n",
    "import numpy as np\n",
    "from csv import *\n",
    "import matplotlib.pyplot as plt\n",
    "import array\n"
   ]
  },
  {
   "cell_type": "code",
   "execution_count": 5,
   "id": "0d56aec2",
   "metadata": {},
   "outputs": [
    {
     "name": "stdout",
     "output_type": "stream",
     "text": [
      "X_train\n",
      "     Head Size(cm^3)\n",
      "117             3900\n",
      "224             3647\n",
      "150             3413\n",
      "5               3585\n",
      "56              3890\n",
      "\n",
      "y_train\n",
      "117    1270\n",
      "224    1408\n",
      "150    1322\n",
      "5      1300\n",
      "56     1310\n",
      "Name: Brain Weight(grams), dtype: int64\n",
      "\n",
      "X_test\n",
      "     Head Size(cm^3)\n",
      "115             3499\n",
      "15              3876\n",
      "211             3580\n",
      "126             3391\n",
      "6               3785\n",
      "\n",
      "y_test\n",
      "115    1275\n",
      "15     1405\n",
      "211    1320\n",
      "126    1125\n",
      "6      1400\n",
      "Name: Brain Weight(grams), dtype: int64\n"
     ]
    }
   ],
   "source": [
    "import pandas as pd\n",
    "from sklearn.model_selection import train_test_split\n",
    "df = pd.read_csv(\"headbrain1.csv\")\n",
    "X = df.drop(columns=['Brain Weight(grams)']) \n",
    "X_train, X_test, y_train, y_test = train_test_split(X, y, test_size=0.3, random_state=42)\n",
    "\n",
    "print(\"X_train\")\n",
    "print(X_train.head())  \n",
    "print(\"\\ny_train\")\n",
    "print(y_train.head())  \n",
    "print(\"\\nX_test\")\n",
    "print(X_test.head())  \n",
    "print(\"\\ny_test\")\n",
    "print(y_test.head()) \n"
   ]
  },
  {
   "cell_type": "code",
   "execution_count": 2,
   "id": "6f628b90",
   "metadata": {},
   "outputs": [
    {
     "name": "stdout",
     "output_type": "stream",
     "text": [
      "Original Dataset:\n",
      "    Head Size(cm^3)  Brain Weight(grams)\n",
      "0              4512                 1530\n",
      "1              3738                 1297\n",
      "2              4261                 1335\n",
      "3              3777                 1282\n",
      "4              4177                 1590\n",
      "5              3585                 1300\n",
      "6              3785                 1400\n",
      "7              3559                 1255\n",
      "8              3613                 1355\n",
      "9              3982                 1375\n",
      "10             3443                 1340\n",
      "11             3993                 1380\n",
      "12             3640                 1355\n",
      "13             4208                 1522\n",
      "14             3832                 1208\n",
      "\n",
      "Missing Values:\n",
      "Head Size(cm^3)        0\n",
      "Brain Weight(grams)    0\n",
      "dtype: int64\n",
      "\n",
      "Duplicate Rows:\n",
      "0\n",
      "\n",
      "Cleaned Dataset:\n",
      "   Head Size(cm^3)  Brain Weight(grams)\n",
      "0             4512                 1530\n",
      "1             3738                 1297\n",
      "2             4261                 1335\n",
      "3             3777                 1282\n",
      "4             4177                 1590\n"
     ]
    }
   ],
   "source": [
    "import pandas as pd\n",
    "\n",
    "# Load the dataset\n",
    "df = pd.read_csv(\"headbrain1.csv\")\n",
    "\n",
    "# Display the first few rows of the dataset\n",
    "print(\"Original Dataset:\")\n",
    "print(df.head(15))\n",
    "\n",
    "# Check for missing values\n",
    "print(\"\\nMissing Values:\")\n",
    "print(df.isnull().sum())\n",
    "\n",
    "# Check for duplicates\n",
    "print(\"\\nDuplicate Rows:\")\n",
    "print(df.duplicated().sum())\n",
    "\n",
    "# Remove duplicates\n",
    "df.drop_duplicates(inplace=True)\n",
    "\n",
    "# Handling missing values (if any)\n",
    "# You can fill missing values with mean, median, mode, or any other strategy depending on your data\n",
    "# Here, let's fill missing values with the mean of the respective column\n",
    "df.fillna(df.mean(), inplace=True)\n",
    "\n",
    "# Display the cleaned dataset\n",
    "print(\"\\nCleaned Dataset:\")\n",
    "print(df.head())\n"
   ]
  },
  {
   "cell_type": "code",
   "execution_count": null,
   "id": "763d77e4",
   "metadata": {},
   "outputs": [],
   "source": []
  }
 ],
 "metadata": {
  "kernelspec": {
   "display_name": "Python 3 (ipykernel)",
   "language": "python",
   "name": "python3"
  },
  "language_info": {
   "codemirror_mode": {
    "name": "ipython",
    "version": 3
   },
   "file_extension": ".py",
   "mimetype": "text/x-python",
   "name": "python",
   "nbconvert_exporter": "python",
   "pygments_lexer": "ipython3",
   "version": "3.11.4"
  }
 },
 "nbformat": 4,
 "nbformat_minor": 5
}
