{
 "cells": [
  {
   "cell_type": "code",
   "execution_count": 1,
   "id": "d61975d3",
   "metadata": {},
   "outputs": [],
   "source": [
    "from sklearn.decomposition import PCA"
   ]
  },
  {
   "cell_type": "code",
   "execution_count": 2,
   "id": "5506c628",
   "metadata": {},
   "outputs": [],
   "source": [
    "#Lets import PCA technique\n",
    "from sklearn.decomposition import PCA\n",
    "\n",
    "import pandas as pd\n",
    "import numpy as np\n",
    "\n",
    "import seaborn as sns\n",
    "import matplotlib.pyplot as plt\n",
    "\n",
    "from sklearn.preprocessing import StandardScaler\n",
    "from sklearn.preprocessing import LabelEncoder\n",
    "\n",
    "import warnings\n",
    "warnings.filterwarnings('ignore')"
   ]
  },
  {
   "cell_type": "code",
   "execution_count": 3,
   "id": "5c88254e",
   "metadata": {},
   "outputs": [
    {
     "data": {
      "text/html": [
       "<div>\n",
       "<style scoped>\n",
       "    .dataframe tbody tr th:only-of-type {\n",
       "        vertical-align: middle;\n",
       "    }\n",
       "\n",
       "    .dataframe tbody tr th {\n",
       "        vertical-align: top;\n",
       "    }\n",
       "\n",
       "    .dataframe thead th {\n",
       "        text-align: right;\n",
       "    }\n",
       "</style>\n",
       "<table border=\"1\" class=\"dataframe\">\n",
       "  <thead>\n",
       "    <tr style=\"text-align: right;\">\n",
       "      <th></th>\n",
       "      <th>total_bill</th>\n",
       "      <th>tip</th>\n",
       "      <th>sex</th>\n",
       "      <th>smoker</th>\n",
       "      <th>day</th>\n",
       "      <th>time</th>\n",
       "      <th>size</th>\n",
       "    </tr>\n",
       "  </thead>\n",
       "  <tbody>\n",
       "    <tr>\n",
       "      <th>0</th>\n",
       "      <td>16.99</td>\n",
       "      <td>1.01</td>\n",
       "      <td>Female</td>\n",
       "      <td>No</td>\n",
       "      <td>Sun</td>\n",
       "      <td>Dinner</td>\n",
       "      <td>2</td>\n",
       "    </tr>\n",
       "    <tr>\n",
       "      <th>1</th>\n",
       "      <td>10.34</td>\n",
       "      <td>1.66</td>\n",
       "      <td>Male</td>\n",
       "      <td>No</td>\n",
       "      <td>Sun</td>\n",
       "      <td>Dinner</td>\n",
       "      <td>3</td>\n",
       "    </tr>\n",
       "    <tr>\n",
       "      <th>2</th>\n",
       "      <td>21.01</td>\n",
       "      <td>3.50</td>\n",
       "      <td>Male</td>\n",
       "      <td>No</td>\n",
       "      <td>Sun</td>\n",
       "      <td>Dinner</td>\n",
       "      <td>3</td>\n",
       "    </tr>\n",
       "    <tr>\n",
       "      <th>3</th>\n",
       "      <td>23.68</td>\n",
       "      <td>3.31</td>\n",
       "      <td>Male</td>\n",
       "      <td>No</td>\n",
       "      <td>Sun</td>\n",
       "      <td>Dinner</td>\n",
       "      <td>2</td>\n",
       "    </tr>\n",
       "    <tr>\n",
       "      <th>4</th>\n",
       "      <td>24.59</td>\n",
       "      <td>3.61</td>\n",
       "      <td>Female</td>\n",
       "      <td>No</td>\n",
       "      <td>Sun</td>\n",
       "      <td>Dinner</td>\n",
       "      <td>4</td>\n",
       "    </tr>\n",
       "  </tbody>\n",
       "</table>\n",
       "</div>"
      ],
      "text/plain": [
       "   total_bill   tip     sex smoker  day    time  size\n",
       "0       16.99  1.01  Female     No  Sun  Dinner     2\n",
       "1       10.34  1.66    Male     No  Sun  Dinner     3\n",
       "2       21.01  3.50    Male     No  Sun  Dinner     3\n",
       "3       23.68  3.31    Male     No  Sun  Dinner     2\n",
       "4       24.59  3.61  Female     No  Sun  Dinner     4"
      ]
     },
     "execution_count": 3,
     "metadata": {},
     "output_type": "execute_result"
    }
   ],
   "source": [
    "data=sns.load_dataset('tips') # here the tips.csv data set is used\n",
    "data.head()"
   ]
  },
  {
   "cell_type": "code",
   "execution_count": 4,
   "id": "9e78133f",
   "metadata": {},
   "outputs": [
    {
     "name": "stdout",
     "output_type": "stream",
     "text": [
      "     total_bill   tip  sex  smoker  day  time  size\n",
      "0         16.99  1.01    0       0    2     0     2\n",
      "1         10.34  1.66    1       0    2     0     3\n",
      "2         21.01  3.50    1       0    2     0     3\n",
      "3         23.68  3.31    1       0    2     0     2\n",
      "4         24.59  3.61    0       0    2     0     4\n",
      "..          ...   ...  ...     ...  ...   ...   ...\n",
      "239       29.03  5.92    1       0    1     0     3\n",
      "240       27.18  2.00    0       1    1     0     2\n",
      "241       22.67  2.00    1       1    1     0     2\n",
      "242       17.82  1.75    1       0    1     0     2\n",
      "243       18.78  3.00    0       0    3     0     2\n",
      "\n",
      "[244 rows x 7 columns]\n"
     ]
    }
   ],
   "source": [
    "\n",
    "# Initialize the label encoder\n",
    "le = LabelEncoder()\n",
    "\n",
    "# Apply label encoding to the categorical columns\n",
    "data['sex'] = le.fit_transform(data['sex'])\n",
    "data['smoker'] = le.fit_transform(data['smoker'])\n",
    "data['day'] = le.fit_transform(data['day'])\n",
    "data['time'] = le.fit_transform(data['time'])\n",
    "# here all the columns are transformed into numerical labels\n",
    "\n",
    "print(data)\n"
   ]
  },
  {
   "cell_type": "code",
   "execution_count": 5,
   "id": "c6a08f55",
   "metadata": {},
   "outputs": [],
   "source": [
    "x=data.drop(columns='tip')\n",
    "y=data.tip\n",
    "# here we are dropping the tip column from features and assigning the tip column to the target variable"
   ]
  },
  {
   "cell_type": "code",
   "execution_count": 6,
   "id": "30fb0736",
   "metadata": {},
   "outputs": [],
   "source": [
    "scaler=StandardScaler()\n",
    "x_scaled=scaler.fit_transform(x)"
   ]
  },
  {
   "cell_type": "code",
   "execution_count": 7,
   "id": "af7b98ce",
   "metadata": {},
   "outputs": [
    {
     "data": {
      "text/plain": [
       "array([[-0.64825187, -0.391193  , -0.14701599, -1.45843528,  0.58118349,\n",
       "        -0.53326811],\n",
       "       [-0.03672532,  0.02257671, -1.40831566, -0.05840716, -0.80855313,\n",
       "        -0.57268766],\n",
       "       [ 0.48424518,  0.62075703, -1.06174552,  0.00339783, -0.01338455,\n",
       "        -0.33397486],\n",
       "       ...,\n",
       "       [ 1.16976895, -1.08075629,  0.39103161,  0.94435273,  0.30179418,\n",
       "        -0.02892948],\n",
       "       [ 0.53387373, -0.69995435, -1.26215372, -0.09473659,  0.28306973,\n",
       "         0.38954687],\n",
       "       [-1.10713763,  0.20332829, -0.10652371, -1.20058864,  0.90726214,\n",
       "        -1.21961039]])"
      ]
     },
     "execution_count": 7,
     "metadata": {},
     "output_type": "execute_result"
    }
   ],
   "source": [
    "pca=PCA()# initiazing the pca\n",
    "pca.fit_transform(x_scaled) #fitting and transforming the scaled data"
   ]
  },
  {
   "cell_type": "code",
   "execution_count": 8,
   "id": "b0f146f2",
   "metadata": {},
   "outputs": [
    {
     "data": {
      "image/png": "[encoded data removed]",
      "text/plain": [
       "<Figure size 640x480 with 1 Axes>"
      ]
     },
     "metadata": {},
     "output_type": "display_data"
    }
   ],
   "source": [
    "#array that contains the variance explained by each principal components , cumulative sum represents the total variance explained by the first n principal components.\n",
    "plt.figure()\n",
    "plt.plot(np.cumsum(pca.explained_variance_ratio_))\n",
    "plt.xlabel('Principle Components')\n",
    "plt.ylabel(\"Variance Covered\")\n",
    "plt.title('PCA')\n",
    "plt.show()"
   ]
  },
  {
   "cell_type": "code",
   "execution_count": 9,
   "id": "b2daecb9",
   "metadata": {},
   "outputs": [],
   "source": [
    "#Lets select how many Pricipal components we want\n",
    "pca=PCA(n_components=6)\n",
    "new_pump=pca.fit_transform(x_scaled)\n",
    "princi_comp=pd.DataFrame(new_pump,\n",
    "                        columns=['PC1','PC2','PC3','PC4','PC5','PC6'])\n",
    "# first here we are initializing pca with 6 components then fitting and transforming scaled data \n",
    "#then created a df for principal components."
   ]
  },
  {
   "cell_type": "code",
   "execution_count": 10,
   "id": "df48a6e3",
   "metadata": {},
   "outputs": [
    {
     "data": {
      "text/html": [
       "<div>\n",
       "<style scoped>\n",
       "    .dataframe tbody tr th:only-of-type {\n",
       "        vertical-align: middle;\n",
       "    }\n",
       "\n",
       "    .dataframe tbody tr th {\n",
       "        vertical-align: top;\n",
       "    }\n",
       "\n",
       "    .dataframe thead th {\n",
       "        text-align: right;\n",
       "    }\n",
       "</style>\n",
       "<table border=\"1\" class=\"dataframe\">\n",
       "  <thead>\n",
       "    <tr style=\"text-align: right;\">\n",
       "      <th></th>\n",
       "      <th>PC1</th>\n",
       "      <th>PC2</th>\n",
       "      <th>PC3</th>\n",
       "      <th>PC4</th>\n",
       "      <th>PC5</th>\n",
       "      <th>PC6</th>\n",
       "    </tr>\n",
       "  </thead>\n",
       "  <tbody>\n",
       "    <tr>\n",
       "      <th>0</th>\n",
       "      <td>-0.648252</td>\n",
       "      <td>-0.391193</td>\n",
       "      <td>-0.147016</td>\n",
       "      <td>-1.458435</td>\n",
       "      <td>0.581183</td>\n",
       "      <td>-0.533268</td>\n",
       "    </tr>\n",
       "    <tr>\n",
       "      <th>1</th>\n",
       "      <td>-0.036725</td>\n",
       "      <td>0.022577</td>\n",
       "      <td>-1.408316</td>\n",
       "      <td>-0.058407</td>\n",
       "      <td>-0.808553</td>\n",
       "      <td>-0.572688</td>\n",
       "    </tr>\n",
       "    <tr>\n",
       "      <th>2</th>\n",
       "      <td>0.484245</td>\n",
       "      <td>0.620757</td>\n",
       "      <td>-1.061746</td>\n",
       "      <td>0.003398</td>\n",
       "      <td>-0.013385</td>\n",
       "      <td>-0.333975</td>\n",
       "    </tr>\n",
       "    <tr>\n",
       "      <th>3</th>\n",
       "      <td>0.273709</td>\n",
       "      <td>0.122739</td>\n",
       "      <td>-1.089465</td>\n",
       "      <td>0.186685</td>\n",
       "      <td>0.912460</td>\n",
       "      <td>-0.205740</td>\n",
       "    </tr>\n",
       "    <tr>\n",
       "      <th>4</th>\n",
       "      <td>0.404626</td>\n",
       "      <td>1.330284</td>\n",
       "      <td>0.328724</td>\n",
       "      <td>-1.750056</td>\n",
       "      <td>-0.306168</td>\n",
       "      <td>-0.500240</td>\n",
       "    </tr>\n",
       "    <tr>\n",
       "      <th>...</th>\n",
       "      <td>...</td>\n",
       "      <td>...</td>\n",
       "      <td>...</td>\n",
       "      <td>...</td>\n",
       "      <td>...</td>\n",
       "      <td>...</td>\n",
       "    </tr>\n",
       "    <tr>\n",
       "      <th>239</th>\n",
       "      <td>1.422111</td>\n",
       "      <td>0.576203</td>\n",
       "      <td>-0.783601</td>\n",
       "      <td>-0.197625</td>\n",
       "      <td>0.391615</td>\n",
       "      <td>0.571840</td>\n",
       "    </tr>\n",
       "    <tr>\n",
       "      <th>240</th>\n",
       "      <td>0.794657</td>\n",
       "      <td>-0.966795</td>\n",
       "      <td>1.697265</td>\n",
       "      <td>-0.635893</td>\n",
       "      <td>0.805184</td>\n",
       "      <td>-0.105887</td>\n",
       "    </tr>\n",
       "    <tr>\n",
       "      <th>241</th>\n",
       "      <td>1.169769</td>\n",
       "      <td>-1.080756</td>\n",
       "      <td>0.391032</td>\n",
       "      <td>0.944353</td>\n",
       "      <td>0.301794</td>\n",
       "      <td>-0.028929</td>\n",
       "    </tr>\n",
       "    <tr>\n",
       "      <th>242</th>\n",
       "      <td>0.533874</td>\n",
       "      <td>-0.699954</td>\n",
       "      <td>-1.262154</td>\n",
       "      <td>-0.094737</td>\n",
       "      <td>0.283070</td>\n",
       "      <td>0.389547</td>\n",
       "    </tr>\n",
       "    <tr>\n",
       "      <th>243</th>\n",
       "      <td>-1.107138</td>\n",
       "      <td>0.203328</td>\n",
       "      <td>-0.106524</td>\n",
       "      <td>-1.200589</td>\n",
       "      <td>0.907262</td>\n",
       "      <td>-1.219610</td>\n",
       "    </tr>\n",
       "  </tbody>\n",
       "</table>\n",
       "<p>244 rows × 6 columns</p>\n",
       "</div>"
      ],
      "text/plain": [
       "          PC1       PC2       PC3       PC4       PC5       PC6\n",
       "0   -0.648252 -0.391193 -0.147016 -1.458435  0.581183 -0.533268\n",
       "1   -0.036725  0.022577 -1.408316 -0.058407 -0.808553 -0.572688\n",
       "2    0.484245  0.620757 -1.061746  0.003398 -0.013385 -0.333975\n",
       "3    0.273709  0.122739 -1.089465  0.186685  0.912460 -0.205740\n",
       "4    0.404626  1.330284  0.328724 -1.750056 -0.306168 -0.500240\n",
       "..        ...       ...       ...       ...       ...       ...\n",
       "239  1.422111  0.576203 -0.783601 -0.197625  0.391615  0.571840\n",
       "240  0.794657 -0.966795  1.697265 -0.635893  0.805184 -0.105887\n",
       "241  1.169769 -1.080756  0.391032  0.944353  0.301794 -0.028929\n",
       "242  0.533874 -0.699954 -1.262154 -0.094737  0.283070  0.389547\n",
       "243 -1.107138  0.203328 -0.106524 -1.200589  0.907262 -1.219610\n",
       "\n",
       "[244 rows x 6 columns]"
      ]
     },
     "execution_count": 10,
     "metadata": {},
     "output_type": "execute_result"
    }
   ],
   "source": [
    "princi_comp"
   ]
  },
  {
   "cell_type": "code",
   "execution_count": null,
   "id": "457aa2e2",
   "metadata": {},
   "outputs": [],
   "source": []
  }
 ],
 "metadata": {
  "kernelspec": {
   "display_name": "Python 3 (ipykernel)",
   "language": "python",
   "name": "python3"
  },
  "language_info": {
   "codemirror_mode": {
    "name": "ipython",
    "version": 3
   },
   "file_extension": ".py",
   "mimetype": "text/x-python",
   "name": "python",
   "nbconvert_exporter": "python",
   "pygments_lexer": "ipython3",
   "version": "3.11.4"
  }
 },
 "nbformat": 4,
 "nbformat_minor": 5
}
